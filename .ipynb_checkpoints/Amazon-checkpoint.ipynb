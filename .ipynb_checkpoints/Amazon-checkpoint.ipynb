{
 "cells": [
  {
   "cell_type": "markdown",
   "metadata": {},
   "source": [
    "**Data Dictionary**"
   ]
  },
  {
   "cell_type": "markdown",
   "metadata": {},
   "source": [
    "<font color='blue'><b>id: UserId <br>\n",
    "<font color='blue'><b>r : Recency <br>\n",
    "<font color='blue'><b>F : Overall Frequency <br>\n",
    "<font color='blue'><b>m : Overall Monetary <br>\n",
    "<font color='blue'><b>tof : Time on File (in days) <br>\n",
    "<font color='blue'><b>F* variables are count, e.g., Fclassic3 is the number of classics books the customer has bought in the past <br>\n",
    "<font color='blue'><b>M* variables are monetary, e.g., Mclassic3 is the amount spent on classics in the past <br>"
   ]
  },
  {
   "cell_type": "markdown",
   "metadata": {},
   "source": [
    "**Importing basic libraries**"
   ]
  },
  {
   "cell_type": "code",
   "execution_count": 1,
   "metadata": {},
   "outputs": [],
   "source": [
    "import numpy as np\n",
    "import matplotlib.pyplot as plt\n",
    "import pandas as pd\n",
    "import seaborn as sns\n",
    "import warnings\n",
    "warnings.filterwarnings(\"ignore\")\n",
    "\n",
    "from scipy.sparse.linalg import svds\n",
    "from scipy.sparse import csr_matrix\n",
    "from sklearn.model_selection import train_test_split"
   ]
  },
  {
   "cell_type": "markdown",
   "metadata": {},
   "source": [
    "**Read data**"
   ]
  },
  {
   "cell_type": "code",
   "execution_count": 2,
   "metadata": {},
   "outputs": [],
   "source": [
    "df = pd.read_excel('Amazon.xlsx')"
   ]
  },
  {
   "cell_type": "markdown",
   "metadata": {},
   "source": [
    "### 1. Getting familiar with the data"
   ]
  },
  {
   "cell_type": "markdown",
   "metadata": {},
   "source": [
    "**Peak the data frame**"
   ]
  },
  {
   "cell_type": "code",
   "execution_count": 3,
   "metadata": {},
   "outputs": [
    {
     "data": {
      "text/html": [
       "<div>\n",
       "<style scoped>\n",
       "    .dataframe tbody tr th:only-of-type {\n",
       "        vertical-align: middle;\n",
       "    }\n",
       "\n",
       "    .dataframe tbody tr th {\n",
       "        vertical-align: top;\n",
       "    }\n",
       "\n",
       "    .dataframe thead th {\n",
       "        text-align: right;\n",
       "    }\n",
       "</style>\n",
       "<table border=\"1\" class=\"dataframe\">\n",
       "  <thead>\n",
       "    <tr style=\"text-align: right;\">\n",
       "      <th></th>\n",
       "      <th>id</th>\n",
       "      <th>logtarg</th>\n",
       "      <th>r</th>\n",
       "      <th>f</th>\n",
       "      <th>m</th>\n",
       "      <th>tof</th>\n",
       "      <th>Ffiction1</th>\n",
       "      <th>Fclassics3</th>\n",
       "      <th>Fcartoons5</th>\n",
       "      <th>Flegends6</th>\n",
       "      <th>...</th>\n",
       "      <th>Mhealth35</th>\n",
       "      <th>Mcooking36</th>\n",
       "      <th>Mlearning37</th>\n",
       "      <th>MGamesRiddles38</th>\n",
       "      <th>Msports39</th>\n",
       "      <th>Mhobby40</th>\n",
       "      <th>Mnature41</th>\n",
       "      <th>Mencyclopaedia44</th>\n",
       "      <th>Mvideos50</th>\n",
       "      <th>Mnonbooks99</th>\n",
       "    </tr>\n",
       "  </thead>\n",
       "  <tbody>\n",
       "    <tr>\n",
       "      <th>0</th>\n",
       "      <td>914</td>\n",
       "      <td>NaN</td>\n",
       "      <td>194</td>\n",
       "      <td>7</td>\n",
       "      <td>318.894775</td>\n",
       "      <td>1703</td>\n",
       "      <td>1</td>\n",
       "      <td>0</td>\n",
       "      <td>1</td>\n",
       "      <td>0</td>\n",
       "      <td>...</td>\n",
       "      <td>14.899994</td>\n",
       "      <td>10.174706</td>\n",
       "      <td>0.000000</td>\n",
       "      <td>0.0</td>\n",
       "      <td>0.0</td>\n",
       "      <td>0.000000</td>\n",
       "      <td>0.000000</td>\n",
       "      <td>0.0</td>\n",
       "      <td>0.000000</td>\n",
       "      <td>0.0</td>\n",
       "    </tr>\n",
       "    <tr>\n",
       "      <th>1</th>\n",
       "      <td>957</td>\n",
       "      <td>NaN</td>\n",
       "      <td>3</td>\n",
       "      <td>14</td>\n",
       "      <td>368.052246</td>\n",
       "      <td>2364</td>\n",
       "      <td>1</td>\n",
       "      <td>0</td>\n",
       "      <td>2</td>\n",
       "      <td>0</td>\n",
       "      <td>...</td>\n",
       "      <td>74.156250</td>\n",
       "      <td>0.000000</td>\n",
       "      <td>22.749985</td>\n",
       "      <td>0.0</td>\n",
       "      <td>0.0</td>\n",
       "      <td>61.176025</td>\n",
       "      <td>17.150269</td>\n",
       "      <td>10.0</td>\n",
       "      <td>0.000000</td>\n",
       "      <td>0.0</td>\n",
       "    </tr>\n",
       "    <tr>\n",
       "      <th>2</th>\n",
       "      <td>1406</td>\n",
       "      <td>NaN</td>\n",
       "      <td>1489</td>\n",
       "      <td>15</td>\n",
       "      <td>423.298340</td>\n",
       "      <td>2371</td>\n",
       "      <td>0</td>\n",
       "      <td>0</td>\n",
       "      <td>0</td>\n",
       "      <td>0</td>\n",
       "      <td>...</td>\n",
       "      <td>0.000000</td>\n",
       "      <td>0.000000</td>\n",
       "      <td>0.000000</td>\n",
       "      <td>0.0</td>\n",
       "      <td>0.0</td>\n",
       "      <td>0.000000</td>\n",
       "      <td>0.000000</td>\n",
       "      <td>0.0</td>\n",
       "      <td>0.000000</td>\n",
       "      <td>0.0</td>\n",
       "    </tr>\n",
       "    <tr>\n",
       "      <th>3</th>\n",
       "      <td>1414</td>\n",
       "      <td>NaN</td>\n",
       "      <td>155</td>\n",
       "      <td>4</td>\n",
       "      <td>71.217041</td>\n",
       "      <td>1290</td>\n",
       "      <td>0</td>\n",
       "      <td>0</td>\n",
       "      <td>0</td>\n",
       "      <td>0</td>\n",
       "      <td>...</td>\n",
       "      <td>0.000000</td>\n",
       "      <td>0.000000</td>\n",
       "      <td>0.000000</td>\n",
       "      <td>0.0</td>\n",
       "      <td>0.0</td>\n",
       "      <td>0.000000</td>\n",
       "      <td>0.000000</td>\n",
       "      <td>0.0</td>\n",
       "      <td>0.000000</td>\n",
       "      <td>0.0</td>\n",
       "    </tr>\n",
       "    <tr>\n",
       "      <th>4</th>\n",
       "      <td>1546</td>\n",
       "      <td>NaN</td>\n",
       "      <td>194</td>\n",
       "      <td>6</td>\n",
       "      <td>442.638184</td>\n",
       "      <td>2188</td>\n",
       "      <td>0</td>\n",
       "      <td>0</td>\n",
       "      <td>1</td>\n",
       "      <td>0</td>\n",
       "      <td>...</td>\n",
       "      <td>41.518219</td>\n",
       "      <td>0.000000</td>\n",
       "      <td>7.949997</td>\n",
       "      <td>0.0</td>\n",
       "      <td>0.0</td>\n",
       "      <td>17.895203</td>\n",
       "      <td>0.000000</td>\n",
       "      <td>0.0</td>\n",
       "      <td>61.799988</td>\n",
       "      <td>0.0</td>\n",
       "    </tr>\n",
       "  </tbody>\n",
       "</table>\n",
       "<p>5 rows × 66 columns</p>\n",
       "</div>"
      ],
      "text/plain": [
       "     id  logtarg     r   f           m   tof  Ffiction1  Fclassics3  \\\n",
       "0   914      NaN   194   7  318.894775  1703          1           0   \n",
       "1   957      NaN     3  14  368.052246  2364          1           0   \n",
       "2  1406      NaN  1489  15  423.298340  2371          0           0   \n",
       "3  1414      NaN   155   4   71.217041  1290          0           0   \n",
       "4  1546      NaN   194   6  442.638184  2188          0           0   \n",
       "\n",
       "   Fcartoons5  Flegends6  ...  Mhealth35  Mcooking36  Mlearning37  \\\n",
       "0           1          0  ...  14.899994   10.174706     0.000000   \n",
       "1           2          0  ...  74.156250    0.000000    22.749985   \n",
       "2           0          0  ...   0.000000    0.000000     0.000000   \n",
       "3           0          0  ...   0.000000    0.000000     0.000000   \n",
       "4           1          0  ...  41.518219    0.000000     7.949997   \n",
       "\n",
       "   MGamesRiddles38  Msports39   Mhobby40  Mnature41  Mencyclopaedia44  \\\n",
       "0              0.0        0.0   0.000000   0.000000               0.0   \n",
       "1              0.0        0.0  61.176025  17.150269              10.0   \n",
       "2              0.0        0.0   0.000000   0.000000               0.0   \n",
       "3              0.0        0.0   0.000000   0.000000               0.0   \n",
       "4              0.0        0.0  17.895203   0.000000               0.0   \n",
       "\n",
       "   Mvideos50  Mnonbooks99  \n",
       "0   0.000000          0.0  \n",
       "1   0.000000          0.0  \n",
       "2   0.000000          0.0  \n",
       "3   0.000000          0.0  \n",
       "4  61.799988          0.0  \n",
       "\n",
       "[5 rows x 66 columns]"
      ]
     },
     "execution_count": 3,
     "metadata": {},
     "output_type": "execute_result"
    }
   ],
   "source": [
    "df.head()"
   ]
  },
  {
   "cell_type": "code",
   "execution_count": 4,
   "metadata": {},
   "outputs": [
    {
     "data": {
      "text/plain": [
       "(33713, 66)"
      ]
     },
     "execution_count": 4,
     "metadata": {},
     "output_type": "execute_result"
    }
   ],
   "source": [
    "df.shape"
   ]
  },
  {
   "cell_type": "markdown",
   "metadata": {},
   "source": [
    "**Data frame info**"
   ]
  },
  {
   "cell_type": "code",
   "execution_count": 5,
   "metadata": {},
   "outputs": [],
   "source": [
    "# df.info()"
   ]
  },
  {
   "cell_type": "markdown",
   "metadata": {},
   "source": [
    "**Basic stats descriptive statistics (mean, median, min, max, standard deviation) for each field**"
   ]
  },
  {
   "cell_type": "code",
   "execution_count": 6,
   "metadata": {},
   "outputs": [
    {
     "data": {
      "text/html": [
       "<div>\n",
       "<style scoped>\n",
       "    .dataframe tbody tr th:only-of-type {\n",
       "        vertical-align: middle;\n",
       "    }\n",
       "\n",
       "    .dataframe tbody tr th {\n",
       "        vertical-align: top;\n",
       "    }\n",
       "\n",
       "    .dataframe thead th {\n",
       "        text-align: right;\n",
       "    }\n",
       "</style>\n",
       "<table border=\"1\" class=\"dataframe\">\n",
       "  <thead>\n",
       "    <tr style=\"text-align: right;\">\n",
       "      <th></th>\n",
       "      <th>id</th>\n",
       "      <th>logtarg</th>\n",
       "      <th>r</th>\n",
       "      <th>f</th>\n",
       "      <th>m</th>\n",
       "      <th>tof</th>\n",
       "      <th>Ffiction1</th>\n",
       "      <th>Fclassics3</th>\n",
       "      <th>Fcartoons5</th>\n",
       "      <th>Flegends6</th>\n",
       "      <th>...</th>\n",
       "      <th>Mhealth35</th>\n",
       "      <th>Mcooking36</th>\n",
       "      <th>Mlearning37</th>\n",
       "      <th>MGamesRiddles38</th>\n",
       "      <th>Msports39</th>\n",
       "      <th>Mhobby40</th>\n",
       "      <th>Mnature41</th>\n",
       "      <th>Mencyclopaedia44</th>\n",
       "      <th>Mvideos50</th>\n",
       "      <th>Mnonbooks99</th>\n",
       "    </tr>\n",
       "  </thead>\n",
       "  <tbody>\n",
       "    <tr>\n",
       "      <th>count</th>\n",
       "      <td>3.371300e+04</td>\n",
       "      <td>8311.000000</td>\n",
       "      <td>33713.000000</td>\n",
       "      <td>33713.000000</td>\n",
       "      <td>33713.000000</td>\n",
       "      <td>33713.000000</td>\n",
       "      <td>33713.000000</td>\n",
       "      <td>33713.000000</td>\n",
       "      <td>33713.000000</td>\n",
       "      <td>33713.000000</td>\n",
       "      <td>...</td>\n",
       "      <td>33713.000000</td>\n",
       "      <td>33713.000000</td>\n",
       "      <td>33713.000000</td>\n",
       "      <td>33713.000000</td>\n",
       "      <td>33713.000000</td>\n",
       "      <td>33713.000000</td>\n",
       "      <td>33713.000000</td>\n",
       "      <td>33713.000000</td>\n",
       "      <td>33713.000000</td>\n",
       "      <td>33713.000000</td>\n",
       "    </tr>\n",
       "    <tr>\n",
       "      <th>mean</th>\n",
       "      <td>8.234209e+06</td>\n",
       "      <td>0.130050</td>\n",
       "      <td>508.427254</td>\n",
       "      <td>5.820603</td>\n",
       "      <td>251.924325</td>\n",
       "      <td>1296.088186</td>\n",
       "      <td>0.590900</td>\n",
       "      <td>0.228102</td>\n",
       "      <td>0.356480</td>\n",
       "      <td>0.104767</td>\n",
       "      <td>...</td>\n",
       "      <td>29.095301</td>\n",
       "      <td>4.223431</td>\n",
       "      <td>21.147507</td>\n",
       "      <td>0.305226</td>\n",
       "      <td>0.020681</td>\n",
       "      <td>6.785558</td>\n",
       "      <td>3.728635</td>\n",
       "      <td>8.402428</td>\n",
       "      <td>6.020431</td>\n",
       "      <td>1.800973</td>\n",
       "    </tr>\n",
       "    <tr>\n",
       "      <th>std</th>\n",
       "      <td>4.426015e+06</td>\n",
       "      <td>0.659962</td>\n",
       "      <td>542.440039</td>\n",
       "      <td>7.008049</td>\n",
       "      <td>3929.929826</td>\n",
       "      <td>818.976321</td>\n",
       "      <td>1.762201</td>\n",
       "      <td>0.865510</td>\n",
       "      <td>1.105653</td>\n",
       "      <td>0.527764</td>\n",
       "      <td>...</td>\n",
       "      <td>2087.221131</td>\n",
       "      <td>19.975164</td>\n",
       "      <td>2898.452008</td>\n",
       "      <td>1.991675</td>\n",
       "      <td>0.501499</td>\n",
       "      <td>21.197488</td>\n",
       "      <td>15.007592</td>\n",
       "      <td>46.021881</td>\n",
       "      <td>19.643978</td>\n",
       "      <td>21.383867</td>\n",
       "    </tr>\n",
       "    <tr>\n",
       "      <th>min</th>\n",
       "      <td>9.140000e+02</td>\n",
       "      <td>0.000000</td>\n",
       "      <td>0.000000</td>\n",
       "      <td>0.000000</td>\n",
       "      <td>0.000000</td>\n",
       "      <td>0.000000</td>\n",
       "      <td>0.000000</td>\n",
       "      <td>0.000000</td>\n",
       "      <td>0.000000</td>\n",
       "      <td>0.000000</td>\n",
       "      <td>...</td>\n",
       "      <td>0.000000</td>\n",
       "      <td>0.000000</td>\n",
       "      <td>0.000000</td>\n",
       "      <td>0.000000</td>\n",
       "      <td>0.000000</td>\n",
       "      <td>0.000000</td>\n",
       "      <td>0.000000</td>\n",
       "      <td>0.000000</td>\n",
       "      <td>0.000000</td>\n",
       "      <td>0.000000</td>\n",
       "    </tr>\n",
       "    <tr>\n",
       "      <th>25%</th>\n",
       "      <td>4.391616e+06</td>\n",
       "      <td>0.000000</td>\n",
       "      <td>117.000000</td>\n",
       "      <td>1.000000</td>\n",
       "      <td>39.899994</td>\n",
       "      <td>536.000000</td>\n",
       "      <td>0.000000</td>\n",
       "      <td>0.000000</td>\n",
       "      <td>0.000000</td>\n",
       "      <td>0.000000</td>\n",
       "      <td>...</td>\n",
       "      <td>0.000000</td>\n",
       "      <td>0.000000</td>\n",
       "      <td>0.000000</td>\n",
       "      <td>0.000000</td>\n",
       "      <td>0.000000</td>\n",
       "      <td>0.000000</td>\n",
       "      <td>0.000000</td>\n",
       "      <td>0.000000</td>\n",
       "      <td>0.000000</td>\n",
       "      <td>0.000000</td>\n",
       "    </tr>\n",
       "    <tr>\n",
       "      <th>50%</th>\n",
       "      <td>7.967691e+06</td>\n",
       "      <td>0.000000</td>\n",
       "      <td>293.000000</td>\n",
       "      <td>3.000000</td>\n",
       "      <td>102.629944</td>\n",
       "      <td>1311.000000</td>\n",
       "      <td>0.000000</td>\n",
       "      <td>0.000000</td>\n",
       "      <td>0.000000</td>\n",
       "      <td>0.000000</td>\n",
       "      <td>...</td>\n",
       "      <td>0.000000</td>\n",
       "      <td>0.000000</td>\n",
       "      <td>0.000000</td>\n",
       "      <td>0.000000</td>\n",
       "      <td>0.000000</td>\n",
       "      <td>0.000000</td>\n",
       "      <td>0.000000</td>\n",
       "      <td>0.000000</td>\n",
       "      <td>0.000000</td>\n",
       "      <td>0.000000</td>\n",
       "    </tr>\n",
       "    <tr>\n",
       "      <th>75%</th>\n",
       "      <td>1.199823e+07</td>\n",
       "      <td>0.000000</td>\n",
       "      <td>712.000000</td>\n",
       "      <td>7.000000</td>\n",
       "      <td>247.297485</td>\n",
       "      <td>2132.000000</td>\n",
       "      <td>1.000000</td>\n",
       "      <td>0.000000</td>\n",
       "      <td>0.000000</td>\n",
       "      <td>0.000000</td>\n",
       "      <td>...</td>\n",
       "      <td>18.899994</td>\n",
       "      <td>0.000000</td>\n",
       "      <td>2.500000</td>\n",
       "      <td>0.000000</td>\n",
       "      <td>0.000000</td>\n",
       "      <td>5.112919</td>\n",
       "      <td>0.000000</td>\n",
       "      <td>0.000000</td>\n",
       "      <td>0.000000</td>\n",
       "      <td>0.000000</td>\n",
       "    </tr>\n",
       "    <tr>\n",
       "      <th>max</th>\n",
       "      <td>1.625264e+07</td>\n",
       "      <td>6.082878</td>\n",
       "      <td>2460.000000</td>\n",
       "      <td>118.000000</td>\n",
       "      <td>532892.000000</td>\n",
       "      <td>2462.000000</td>\n",
       "      <td>109.000000</td>\n",
       "      <td>29.000000</td>\n",
       "      <td>49.000000</td>\n",
       "      <td>22.000000</td>\n",
       "      <td>...</td>\n",
       "      <td>383154.500000</td>\n",
       "      <td>820.563477</td>\n",
       "      <td>532182.000000</td>\n",
       "      <td>78.724670</td>\n",
       "      <td>21.448685</td>\n",
       "      <td>771.610840</td>\n",
       "      <td>735.354980</td>\n",
       "      <td>1999.150391</td>\n",
       "      <td>794.137695</td>\n",
       "      <td>2412.960938</td>\n",
       "    </tr>\n",
       "  </tbody>\n",
       "</table>\n",
       "<p>8 rows × 66 columns</p>\n",
       "</div>"
      ],
      "text/plain": [
       "                 id      logtarg             r             f              m  \\\n",
       "count  3.371300e+04  8311.000000  33713.000000  33713.000000   33713.000000   \n",
       "mean   8.234209e+06     0.130050    508.427254      5.820603     251.924325   \n",
       "std    4.426015e+06     0.659962    542.440039      7.008049    3929.929826   \n",
       "min    9.140000e+02     0.000000      0.000000      0.000000       0.000000   \n",
       "25%    4.391616e+06     0.000000    117.000000      1.000000      39.899994   \n",
       "50%    7.967691e+06     0.000000    293.000000      3.000000     102.629944   \n",
       "75%    1.199823e+07     0.000000    712.000000      7.000000     247.297485   \n",
       "max    1.625264e+07     6.082878   2460.000000    118.000000  532892.000000   \n",
       "\n",
       "                tof     Ffiction1    Fclassics3    Fcartoons5     Flegends6  \\\n",
       "count  33713.000000  33713.000000  33713.000000  33713.000000  33713.000000   \n",
       "mean    1296.088186      0.590900      0.228102      0.356480      0.104767   \n",
       "std      818.976321      1.762201      0.865510      1.105653      0.527764   \n",
       "min        0.000000      0.000000      0.000000      0.000000      0.000000   \n",
       "25%      536.000000      0.000000      0.000000      0.000000      0.000000   \n",
       "50%     1311.000000      0.000000      0.000000      0.000000      0.000000   \n",
       "75%     2132.000000      1.000000      0.000000      0.000000      0.000000   \n",
       "max     2462.000000    109.000000     29.000000     49.000000     22.000000   \n",
       "\n",
       "       ...      Mhealth35    Mcooking36    Mlearning37  MGamesRiddles38  \\\n",
       "count  ...   33713.000000  33713.000000   33713.000000     33713.000000   \n",
       "mean   ...      29.095301      4.223431      21.147507         0.305226   \n",
       "std    ...    2087.221131     19.975164    2898.452008         1.991675   \n",
       "min    ...       0.000000      0.000000       0.000000         0.000000   \n",
       "25%    ...       0.000000      0.000000       0.000000         0.000000   \n",
       "50%    ...       0.000000      0.000000       0.000000         0.000000   \n",
       "75%    ...      18.899994      0.000000       2.500000         0.000000   \n",
       "max    ...  383154.500000    820.563477  532182.000000        78.724670   \n",
       "\n",
       "          Msports39      Mhobby40     Mnature41  Mencyclopaedia44  \\\n",
       "count  33713.000000  33713.000000  33713.000000      33713.000000   \n",
       "mean       0.020681      6.785558      3.728635          8.402428   \n",
       "std        0.501499     21.197488     15.007592         46.021881   \n",
       "min        0.000000      0.000000      0.000000          0.000000   \n",
       "25%        0.000000      0.000000      0.000000          0.000000   \n",
       "50%        0.000000      0.000000      0.000000          0.000000   \n",
       "75%        0.000000      5.112919      0.000000          0.000000   \n",
       "max       21.448685    771.610840    735.354980       1999.150391   \n",
       "\n",
       "          Mvideos50   Mnonbooks99  \n",
       "count  33713.000000  33713.000000  \n",
       "mean       6.020431      1.800973  \n",
       "std       19.643978     21.383867  \n",
       "min        0.000000      0.000000  \n",
       "25%        0.000000      0.000000  \n",
       "50%        0.000000      0.000000  \n",
       "75%        0.000000      0.000000  \n",
       "max      794.137695   2412.960938  \n",
       "\n",
       "[8 rows x 66 columns]"
      ]
     },
     "execution_count": 6,
     "metadata": {},
     "output_type": "execute_result"
    }
   ],
   "source": [
    "df.describe()"
   ]
  },
  {
   "cell_type": "markdown",
   "metadata": {},
   "source": [
    "**Check for missing values**"
   ]
  },
  {
   "cell_type": "code",
   "execution_count": 7,
   "metadata": {},
   "outputs": [
    {
     "data": {
      "text/plain": [
       "<AxesSubplot:>"
      ]
     },
     "execution_count": 7,
     "metadata": {},
     "output_type": "execute_result"
    },
    {
     "data": {
      "image/png": "[encoded data removed]",
      "text/plain": [
       "<Figure size 1440x432 with 2 Axes>"
      ]
     },
     "metadata": {
      "needs_background": "light"
     },
     "output_type": "display_data"
    }
   ],
   "source": [
    "plt.figure(figsize=(20,6))\n",
    "sns.heatmap(df.isnull())"
   ]
  },
  {
   "cell_type": "markdown",
   "metadata": {},
   "source": [
    "<font color='red'><b> What is your initial take on the dataset and it's completeness?\n",
    "\n",
    "<font color='white'> We see that logtarg is the only field with missing values. For simplicity, we can drop this column."
   ]
  },
  {
   "cell_type": "markdown",
   "metadata": {},
   "source": [
    "only logtarg doesn't seem to be a useful feature. Would be great if we actually have a data dictionary wouldn't it."
   ]
  },
  {
   "cell_type": "markdown",
   "metadata": {},
   "source": [
    "### 2. Exploratory Data Analysis"
   ]
  },
  {
   "cell_type": "markdown",
   "metadata": {},
   "source": [
    "**Let's take a look at the distribution of Recency**"
   ]
  },
  {
   "cell_type": "code",
   "execution_count": 8,
   "metadata": {},
   "outputs": [],
   "source": [
    "df_2 = df.drop(columns=\"logtarg\")"
   ]
  },
  {
   "cell_type": "code",
   "execution_count": 9,
   "metadata": {},
   "outputs": [
    {
     "data": {
      "text/plain": [
       "Text(0.5, 0, 'Recency')"
      ]
     },
     "execution_count": 9,
     "metadata": {},
     "output_type": "execute_result"
    },
    {
     "data": {
      "image/png": "[encoded data removed]",
      "text/plain": [
       "<Figure size 1008x576 with 1 Axes>"
      ]
     },
     "metadata": {
      "needs_background": "light"
     },
     "output_type": "display_data"
    }
   ],
   "source": [
    "plt.figure(figsize=(14,8))\n",
    "plt.subplot(3, 1, 1); \n",
    "sns.distplot(df_2['r'])\n",
    "plt.xlabel('Recency')"
   ]
  },
  {
   "cell_type": "markdown",
   "metadata": {},
   "source": [
    "**Let's take a look at the distribution of Frequency**"
   ]
  },
  {
   "cell_type": "code",
   "execution_count": 10,
   "metadata": {},
   "outputs": [
    {
     "data": {
      "text/plain": [
       "Text(0.5, 0, 'Frequency')"
      ]
     },
     "execution_count": 10,
     "metadata": {},
     "output_type": "execute_result"
    },
    {
     "data": {
      "image/png": "[encoded data removed]",
      "text/plain": [
       "<Figure size 1008x576 with 1 Axes>"
      ]
     },
     "metadata": {
      "needs_background": "light"
     },
     "output_type": "display_data"
    }
   ],
   "source": [
    "plt.figure(figsize=(14,8))\n",
    "plt.subplot(3, 1, 1); sns.distplot(df_2['f'])\n",
    "plt.xlabel('Frequency')"
   ]
  },
  {
   "cell_type": "markdown",
   "metadata": {},
   "source": [
    "**Let's take a look at the distribution of Monetary**"
   ]
  },
  {
   "cell_type": "code",
   "execution_count": 11,
   "metadata": {},
   "outputs": [
    {
     "data": {
      "text/plain": [
       "Text(0.5, 0, 'Monetary')"
      ]
     },
     "execution_count": 11,
     "metadata": {},
     "output_type": "execute_result"
    },
    {
     "data": {
      "image/png": "[encoded data removed]",
      "text/plain": [
       "<Figure size 1008x576 with 1 Axes>"
      ]
     },
     "metadata": {
      "needs_background": "light"
     },
     "output_type": "display_data"
    }
   ],
   "source": [
    "plt.figure(figsize=(14,8))\n",
    "plt.subplot(3, 1, 1); sns.distplot(df_2['m'])\n",
    "plt.xlabel('Monetary')"
   ]
  },
  {
   "cell_type": "code",
   "execution_count": 12,
   "metadata": {},
   "outputs": [
    {
     "data": {
      "text/plain": [
       "Text(0.5, 0, 'Monetary')"
      ]
     },
     "execution_count": 12,
     "metadata": {},
     "output_type": "execute_result"
    },
    {
     "data": {
      "image/png": "[encoded data removed]",
      "text/plain": [
       "<Figure size 1008x576 with 1 Axes>"
      ]
     },
     "metadata": {
      "needs_background": "light"
     },
     "output_type": "display_data"
    }
   ],
   "source": [
    "plt.figure(figsize=(14,8))\n",
    "plt.subplot(3, 1, 1); sns.distplot(df_2.loc[df_2['m'] < df_2['m'].quantile(0.95)]['m'])\n",
    "plt.xlabel('Monetary')"
   ]
  },
  {
   "cell_type": "markdown",
   "metadata": {},
   "source": [
    "**Let's take a look at the distribution of Time on File**"
   ]
  },
  {
   "cell_type": "code",
   "execution_count": 13,
   "metadata": {},
   "outputs": [
    {
     "data": {
      "text/plain": [
       "Text(0.5, 0, 'Time on File (in days)')"
      ]
     },
     "execution_count": 13,
     "metadata": {},
     "output_type": "execute_result"
    },
    {
     "data": {
      "image/png": "[encoded data removed]",
      "text/plain": [
       "<Figure size 1008x576 with 1 Axes>"
      ]
     },
     "metadata": {
      "needs_background": "light"
     },
     "output_type": "display_data"
    }
   ],
   "source": [
    "plt.figure(figsize=(14,8))\n",
    "plt.subplot(3, 1, 1); sns.distplot(df_2['tof'])\n",
    "plt.xlabel('Time on File (in days)')"
   ]
  },
  {
   "cell_type": "markdown",
   "metadata": {},
   "source": [
    "<font color='red'><b>What are your takeaways from looking at the distributions of Recency, Frequency, Monetary and Time of File? What initial recommendations can be make to the stakeholder based on these? \n",
    "\n",
    "<font color='white'> Most of the customers have had their most recent purchase within last 500 days. The average frequency of purchase is between 5 and 6, with the tails of frequency tapering off after 20. The average purchase value is about $250.\n",
    "\n",
    "Time on file has more customers concentrated at the two higher end, with more than 2000 days on file. "
   ]
  },
  {
   "cell_type": "markdown",
   "metadata": {},
   "source": [
    "<font color='red'><b>What other EDA's can you think of doing? Try 1 or 2 below."
   ]
  },
  {
   "cell_type": "code",
   "execution_count": 14,
   "metadata": {},
   "outputs": [
    {
     "data": {
      "image/png": "[encoded data removed]",
      "text/plain": [
       "<Figure size 1224x432 with 1 Axes>"
      ]
     },
     "metadata": {
      "needs_background": "light"
     },
     "output_type": "display_data"
    }
   ],
   "source": [
    "summ = df_2[df_2.columns[df_2.columns.str.startswith(\"F\")]].sum().sort_values(ascending = False).reset_index()\n",
    "summ = summ.rename(columns={\"index\": \"Item\", 0: \"Count\"})\n",
    "# summ = summ.sort_values(\"Item\")\n",
    "summ[\"perc_orders\"] = (summ[\"Count\"]/summ[\"Count\"].sum())*100\n",
    "\n",
    "# sns.set_context(rc={\"font.size\":20,\"axes.titlesize\":15,\"axes.labelsize\":12}) \n",
    "ax = sns.factorplot(x='perc_orders', y='Item', data=summ, kind='bar', color = \"g\", orient = \"h\")\n",
    "\n",
    "ax.fig.set_figwidth(17)\n",
    "ax.fig.set_figheight(6)\n",
    "# ax.set_xticklabels(rotation = 45)\n"
   ]
  },
  {
   "cell_type": "code",
   "execution_count": 15,
   "metadata": {},
   "outputs": [
    {
     "data": {
      "image/png": "[encoded data removed]",
      "text/plain": [
       "<Figure size 1152x432 with 1 Axes>"
      ]
     },
     "metadata": {
      "needs_background": "light"
     },
     "output_type": "display_data"
    }
   ],
   "source": [
    "summ_mon = df_2[df_2.columns[df_2.columns.str.startswith(\"M\")]].sum().sort_values(ascending = False).reset_index()\n",
    "summ_mon = summ_mon.rename(columns={\"index\": \"Item\", 0: \"Value\"})\n",
    "# summ_mon = summ_mon.sort_values(\"Item\")\n",
    "summ_mon[\"perc_order_value\"] = (summ_mon[\"Value\"]/summ_mon[\"Value\"].sum())*100\n",
    "\n",
    "# sns.set_context(rc={\"font.size\":20,\"axes.titlesize\":15,\"axes.labelsize\":12}) \n",
    "ax_2 = sns.factorplot(x='perc_order_value', y='Item', data=summ_mon, kind='bar', color = \"g\", orient = \"h\")\n",
    "\n",
    "ax_2.fig.set_figwidth(16)\n",
    "ax_2.fig.set_figheight(6)\n",
    "# ax_2.set_xticklabels(rotation = 45)"
   ]
  },
  {
   "cell_type": "markdown",
   "metadata": {},
   "source": [
    "### 3. RFM Analysis"
   ]
  },
  {
   "cell_type": "markdown",
   "metadata": {},
   "source": [
    "**Let's see if we can use Recency, Frequency and Monetary to come up segments and identify similar users**"
   ]
  },
  {
   "cell_type": "code",
   "execution_count": 16,
   "metadata": {},
   "outputs": [],
   "source": [
    "rfm_df = df_2[['id', 'r', 'f', 'm']]"
   ]
  },
  {
   "cell_type": "code",
   "execution_count": 17,
   "metadata": {},
   "outputs": [
    {
     "data": {
      "text/html": [
       "<div>\n",
       "<style scoped>\n",
       "    .dataframe tbody tr th:only-of-type {\n",
       "        vertical-align: middle;\n",
       "    }\n",
       "\n",
       "    .dataframe tbody tr th {\n",
       "        vertical-align: top;\n",
       "    }\n",
       "\n",
       "    .dataframe thead th {\n",
       "        text-align: right;\n",
       "    }\n",
       "</style>\n",
       "<table border=\"1\" class=\"dataframe\">\n",
       "  <thead>\n",
       "    <tr style=\"text-align: right;\">\n",
       "      <th></th>\n",
       "      <th>id</th>\n",
       "      <th>r</th>\n",
       "      <th>f</th>\n",
       "      <th>m</th>\n",
       "    </tr>\n",
       "  </thead>\n",
       "  <tbody>\n",
       "    <tr>\n",
       "      <th>0</th>\n",
       "      <td>914</td>\n",
       "      <td>194</td>\n",
       "      <td>7</td>\n",
       "      <td>318.894775</td>\n",
       "    </tr>\n",
       "    <tr>\n",
       "      <th>1</th>\n",
       "      <td>957</td>\n",
       "      <td>3</td>\n",
       "      <td>14</td>\n",
       "      <td>368.052246</td>\n",
       "    </tr>\n",
       "    <tr>\n",
       "      <th>2</th>\n",
       "      <td>1406</td>\n",
       "      <td>1489</td>\n",
       "      <td>15</td>\n",
       "      <td>423.298340</td>\n",
       "    </tr>\n",
       "    <tr>\n",
       "      <th>3</th>\n",
       "      <td>1414</td>\n",
       "      <td>155</td>\n",
       "      <td>4</td>\n",
       "      <td>71.217041</td>\n",
       "    </tr>\n",
       "    <tr>\n",
       "      <th>4</th>\n",
       "      <td>1546</td>\n",
       "      <td>194</td>\n",
       "      <td>6</td>\n",
       "      <td>442.638184</td>\n",
       "    </tr>\n",
       "  </tbody>\n",
       "</table>\n",
       "</div>"
      ],
      "text/plain": [
       "     id     r   f           m\n",
       "0   914   194   7  318.894775\n",
       "1   957     3  14  368.052246\n",
       "2  1406  1489  15  423.298340\n",
       "3  1414   155   4   71.217041\n",
       "4  1546   194   6  442.638184"
      ]
     },
     "execution_count": 17,
     "metadata": {},
     "output_type": "execute_result"
    }
   ],
   "source": [
    "rfm_df.head()"
   ]
  },
  {
   "cell_type": "markdown",
   "metadata": {},
   "source": [
    "**We create 4 labels for our f_labels, where 4 is the “best” quantile. We do the same for our f_label. We then create new columns “R” and “F” and assign the r_group and f_group values to them respectively**"
   ]
  },
  {
   "cell_type": "code",
   "execution_count": 18,
   "metadata": {},
   "outputs": [
    {
     "data": {
      "text/html": [
       "<div>\n",
       "<style scoped>\n",
       "    .dataframe tbody tr th:only-of-type {\n",
       "        vertical-align: middle;\n",
       "    }\n",
       "\n",
       "    .dataframe tbody tr th {\n",
       "        vertical-align: top;\n",
       "    }\n",
       "\n",
       "    .dataframe thead th {\n",
       "        text-align: right;\n",
       "    }\n",
       "</style>\n",
       "<table border=\"1\" class=\"dataframe\">\n",
       "  <thead>\n",
       "    <tr style=\"text-align: right;\">\n",
       "      <th></th>\n",
       "      <th>id</th>\n",
       "      <th>r</th>\n",
       "      <th>f</th>\n",
       "      <th>m</th>\n",
       "      <th>R</th>\n",
       "      <th>F</th>\n",
       "    </tr>\n",
       "  </thead>\n",
       "  <tbody>\n",
       "    <tr>\n",
       "      <th>0</th>\n",
       "      <td>914</td>\n",
       "      <td>194</td>\n",
       "      <td>7</td>\n",
       "      <td>318.894775</td>\n",
       "      <td>3</td>\n",
       "      <td>3</td>\n",
       "    </tr>\n",
       "    <tr>\n",
       "      <th>1</th>\n",
       "      <td>957</td>\n",
       "      <td>3</td>\n",
       "      <td>14</td>\n",
       "      <td>368.052246</td>\n",
       "      <td>4</td>\n",
       "      <td>4</td>\n",
       "    </tr>\n",
       "    <tr>\n",
       "      <th>2</th>\n",
       "      <td>1406</td>\n",
       "      <td>1489</td>\n",
       "      <td>15</td>\n",
       "      <td>423.298340</td>\n",
       "      <td>1</td>\n",
       "      <td>4</td>\n",
       "    </tr>\n",
       "    <tr>\n",
       "      <th>3</th>\n",
       "      <td>1414</td>\n",
       "      <td>155</td>\n",
       "      <td>4</td>\n",
       "      <td>71.217041</td>\n",
       "      <td>3</td>\n",
       "      <td>3</td>\n",
       "    </tr>\n",
       "    <tr>\n",
       "      <th>4</th>\n",
       "      <td>1546</td>\n",
       "      <td>194</td>\n",
       "      <td>6</td>\n",
       "      <td>442.638184</td>\n",
       "      <td>3</td>\n",
       "      <td>3</td>\n",
       "    </tr>\n",
       "  </tbody>\n",
       "</table>\n",
       "</div>"
      ],
      "text/plain": [
       "     id     r   f           m  R  F\n",
       "0   914   194   7  318.894775  3  3\n",
       "1   957     3  14  368.052246  4  4\n",
       "2  1406  1489  15  423.298340  1  4\n",
       "3  1414   155   4   71.217041  3  3\n",
       "4  1546   194   6  442.638184  3  3"
      ]
     },
     "execution_count": 18,
     "metadata": {},
     "output_type": "execute_result"
    }
   ],
   "source": [
    "# Create labels for Recency and Frequency\n",
    "r_labels = range(4, 0, -1)\n",
    "f_labels = range(1, 5)\n",
    "# Assign these labels to 4 equal percentile groups \n",
    "r_groups = pd.qcut(rfm_df['r'], q=4, labels=r_labels)\n",
    "# # Assign these labels to 4 equal percentile groups \n",
    "f_groups = pd.qcut(rfm_df['f'], q=4, labels=f_labels)\n",
    "# # Create new columns R and F \n",
    "rfm_df = rfm_df.assign(R = r_groups.values, F = f_groups.values)\n",
    "rfm_df.head()\n"
   ]
  },
  {
   "cell_type": "markdown",
   "metadata": {},
   "source": [
    "**We do the same for our monetary value by grouping the values into 4 quantiles using .qcut() method**"
   ]
  },
  {
   "cell_type": "code",
   "execution_count": 19,
   "metadata": {},
   "outputs": [
    {
     "data": {
      "text/html": [
       "<div>\n",
       "<style scoped>\n",
       "    .dataframe tbody tr th:only-of-type {\n",
       "        vertical-align: middle;\n",
       "    }\n",
       "\n",
       "    .dataframe tbody tr th {\n",
       "        vertical-align: top;\n",
       "    }\n",
       "\n",
       "    .dataframe thead th {\n",
       "        text-align: right;\n",
       "    }\n",
       "</style>\n",
       "<table border=\"1\" class=\"dataframe\">\n",
       "  <thead>\n",
       "    <tr style=\"text-align: right;\">\n",
       "      <th></th>\n",
       "      <th>id</th>\n",
       "      <th>r</th>\n",
       "      <th>f</th>\n",
       "      <th>m</th>\n",
       "      <th>R</th>\n",
       "      <th>F</th>\n",
       "      <th>M</th>\n",
       "    </tr>\n",
       "  </thead>\n",
       "  <tbody>\n",
       "    <tr>\n",
       "      <th>0</th>\n",
       "      <td>914</td>\n",
       "      <td>194</td>\n",
       "      <td>7</td>\n",
       "      <td>318.894775</td>\n",
       "      <td>3</td>\n",
       "      <td>3</td>\n",
       "      <td>4</td>\n",
       "    </tr>\n",
       "    <tr>\n",
       "      <th>1</th>\n",
       "      <td>957</td>\n",
       "      <td>3</td>\n",
       "      <td>14</td>\n",
       "      <td>368.052246</td>\n",
       "      <td>4</td>\n",
       "      <td>4</td>\n",
       "      <td>4</td>\n",
       "    </tr>\n",
       "    <tr>\n",
       "      <th>2</th>\n",
       "      <td>1406</td>\n",
       "      <td>1489</td>\n",
       "      <td>15</td>\n",
       "      <td>423.298340</td>\n",
       "      <td>1</td>\n",
       "      <td>4</td>\n",
       "      <td>4</td>\n",
       "    </tr>\n",
       "    <tr>\n",
       "      <th>3</th>\n",
       "      <td>1414</td>\n",
       "      <td>155</td>\n",
       "      <td>4</td>\n",
       "      <td>71.217041</td>\n",
       "      <td>3</td>\n",
       "      <td>3</td>\n",
       "      <td>2</td>\n",
       "    </tr>\n",
       "    <tr>\n",
       "      <th>4</th>\n",
       "      <td>1546</td>\n",
       "      <td>194</td>\n",
       "      <td>6</td>\n",
       "      <td>442.638184</td>\n",
       "      <td>3</td>\n",
       "      <td>3</td>\n",
       "      <td>4</td>\n",
       "    </tr>\n",
       "  </tbody>\n",
       "</table>\n",
       "</div>"
      ],
      "text/plain": [
       "     id     r   f           m  R  F  M\n",
       "0   914   194   7  318.894775  3  3  4\n",
       "1   957     3  14  368.052246  4  4  4\n",
       "2  1406  1489  15  423.298340  1  4  4\n",
       "3  1414   155   4   71.217041  3  3  2\n",
       "4  1546   194   6  442.638184  3  3  4"
      ]
     },
     "execution_count": 19,
     "metadata": {},
     "output_type": "execute_result"
    }
   ],
   "source": [
    "# Create labels for MonetaryValue\n",
    "m_labels = range(1, 5)\n",
    "# Assign these labels to three equal percentile groups \n",
    "m_groups = pd.qcut(rfm_df['m'], q=4, labels=m_labels)\n",
    "# Create new column M\n",
    "rfm_df = rfm_df.assign(M = m_groups.values)\n",
    "rfm_df.head()\n",
    "# higher score for more recent, more frequent, more value"
   ]
  },
  {
   "cell_type": "markdown",
   "metadata": {},
   "source": [
    "**Finally, with these 3 scores in place, R, F, and M, we can create our first RFM segment by concatenating the values together below**"
   ]
  },
  {
   "cell_type": "code",
   "execution_count": 20,
   "metadata": {},
   "outputs": [],
   "source": [
    "def join_rfm(x): \n",
    "    return str(int(x['R'])) + str(int(x['F'])) + str(int(x['M']))"
   ]
  },
  {
   "cell_type": "code",
   "execution_count": 21,
   "metadata": {},
   "outputs": [
    {
     "data": {
      "text/html": [
       "<div>\n",
       "<style scoped>\n",
       "    .dataframe tbody tr th:only-of-type {\n",
       "        vertical-align: middle;\n",
       "    }\n",
       "\n",
       "    .dataframe tbody tr th {\n",
       "        vertical-align: top;\n",
       "    }\n",
       "\n",
       "    .dataframe thead th {\n",
       "        text-align: right;\n",
       "    }\n",
       "</style>\n",
       "<table border=\"1\" class=\"dataframe\">\n",
       "  <thead>\n",
       "    <tr style=\"text-align: right;\">\n",
       "      <th></th>\n",
       "      <th>id</th>\n",
       "      <th>r</th>\n",
       "      <th>f</th>\n",
       "      <th>m</th>\n",
       "      <th>R</th>\n",
       "      <th>F</th>\n",
       "      <th>M</th>\n",
       "      <th>RFM_Segment_Concat</th>\n",
       "    </tr>\n",
       "  </thead>\n",
       "  <tbody>\n",
       "    <tr>\n",
       "      <th>0</th>\n",
       "      <td>914</td>\n",
       "      <td>194</td>\n",
       "      <td>7</td>\n",
       "      <td>318.894775</td>\n",
       "      <td>3</td>\n",
       "      <td>3</td>\n",
       "      <td>4</td>\n",
       "      <td>334</td>\n",
       "    </tr>\n",
       "    <tr>\n",
       "      <th>1</th>\n",
       "      <td>957</td>\n",
       "      <td>3</td>\n",
       "      <td>14</td>\n",
       "      <td>368.052246</td>\n",
       "      <td>4</td>\n",
       "      <td>4</td>\n",
       "      <td>4</td>\n",
       "      <td>444</td>\n",
       "    </tr>\n",
       "    <tr>\n",
       "      <th>2</th>\n",
       "      <td>1406</td>\n",
       "      <td>1489</td>\n",
       "      <td>15</td>\n",
       "      <td>423.298340</td>\n",
       "      <td>1</td>\n",
       "      <td>4</td>\n",
       "      <td>4</td>\n",
       "      <td>144</td>\n",
       "    </tr>\n",
       "    <tr>\n",
       "      <th>3</th>\n",
       "      <td>1414</td>\n",
       "      <td>155</td>\n",
       "      <td>4</td>\n",
       "      <td>71.217041</td>\n",
       "      <td>3</td>\n",
       "      <td>3</td>\n",
       "      <td>2</td>\n",
       "      <td>332</td>\n",
       "    </tr>\n",
       "    <tr>\n",
       "      <th>4</th>\n",
       "      <td>1546</td>\n",
       "      <td>194</td>\n",
       "      <td>6</td>\n",
       "      <td>442.638184</td>\n",
       "      <td>3</td>\n",
       "      <td>3</td>\n",
       "      <td>4</td>\n",
       "      <td>334</td>\n",
       "    </tr>\n",
       "  </tbody>\n",
       "</table>\n",
       "</div>"
      ],
      "text/plain": [
       "     id     r   f           m  R  F  M RFM_Segment_Concat\n",
       "0   914   194   7  318.894775  3  3  4                334\n",
       "1   957     3  14  368.052246  4  4  4                444\n",
       "2  1406  1489  15  423.298340  1  4  4                144\n",
       "3  1414   155   4   71.217041  3  3  2                332\n",
       "4  1546   194   6  442.638184  3  3  4                334"
      ]
     },
     "execution_count": 21,
     "metadata": {},
     "output_type": "execute_result"
    }
   ],
   "source": [
    "rfm_df['RFM_Segment_Concat'] = rfm_df.apply(join_rfm, axis=1)\n",
    "rfm_df.head()"
   ]
  },
  {
   "cell_type": "markdown",
   "metadata": {},
   "source": [
    "**Summing the Score is one of the most straightforward methods is to sum our scores to a single number and define RFM levels for each score range**"
   ]
  },
  {
   "cell_type": "code",
   "execution_count": 22,
   "metadata": {},
   "outputs": [
    {
     "data": {
      "text/html": [
       "<div>\n",
       "<style scoped>\n",
       "    .dataframe tbody tr th:only-of-type {\n",
       "        vertical-align: middle;\n",
       "    }\n",
       "\n",
       "    .dataframe tbody tr th {\n",
       "        vertical-align: top;\n",
       "    }\n",
       "\n",
       "    .dataframe thead th {\n",
       "        text-align: right;\n",
       "    }\n",
       "</style>\n",
       "<table border=\"1\" class=\"dataframe\">\n",
       "  <thead>\n",
       "    <tr style=\"text-align: right;\">\n",
       "      <th></th>\n",
       "      <th>id</th>\n",
       "      <th>RFM_Score</th>\n",
       "    </tr>\n",
       "  </thead>\n",
       "  <tbody>\n",
       "    <tr>\n",
       "      <th>0</th>\n",
       "      <td>914</td>\n",
       "      <td>10</td>\n",
       "    </tr>\n",
       "    <tr>\n",
       "      <th>1</th>\n",
       "      <td>957</td>\n",
       "      <td>12</td>\n",
       "    </tr>\n",
       "    <tr>\n",
       "      <th>2</th>\n",
       "      <td>1406</td>\n",
       "      <td>9</td>\n",
       "    </tr>\n",
       "    <tr>\n",
       "      <th>3</th>\n",
       "      <td>1414</td>\n",
       "      <td>8</td>\n",
       "    </tr>\n",
       "    <tr>\n",
       "      <th>4</th>\n",
       "      <td>1546</td>\n",
       "      <td>10</td>\n",
       "    </tr>\n",
       "  </tbody>\n",
       "</table>\n",
       "</div>"
      ],
      "text/plain": [
       "     id  RFM_Score\n",
       "0   914         10\n",
       "1   957         12\n",
       "2  1406          9\n",
       "3  1414          8\n",
       "4  1546         10"
      ]
     },
     "execution_count": 22,
     "metadata": {},
     "output_type": "execute_result"
    }
   ],
   "source": [
    "rfm_df['RFM_Score'] = rfm_df[['R','F','M']].sum(axis=1)\n",
    "rfm_df[['id','RFM_Score']].head()"
   ]
  },
  {
   "cell_type": "markdown",
   "metadata": {},
   "source": [
    "**Let's check out the RFM Scores**"
   ]
  },
  {
   "cell_type": "code",
   "execution_count": 23,
   "metadata": {},
   "outputs": [
    {
     "data": {
      "text/plain": [
       "<AxesSubplot:xlabel='RFM_Score', ylabel='count'>"
      ]
     },
     "execution_count": 23,
     "metadata": {},
     "output_type": "execute_result"
    },
    {
     "data": {
      "image/png": "[encoded data removed]",
      "text/plain": [
       "<Figure size 432x288 with 1 Axes>"
      ]
     },
     "metadata": {
      "needs_background": "light"
     },
     "output_type": "display_data"
    }
   ],
   "source": [
    "sns.countplot(rfm_df['RFM_Score'])"
   ]
  },
  {
   "cell_type": "markdown",
   "metadata": {},
   "source": [
    "**Let's get creative and hypothesize about what each score range entails and break down the users into different RFM Groups**"
   ]
  },
  {
   "cell_type": "code",
   "execution_count": 24,
   "metadata": {},
   "outputs": [],
   "source": [
    "# Define rfm_level function\n",
    "def rfm_level(df):\n",
    "    if df['RFM_Score'] >= 9:\n",
    "        return 'Can\\'t Loose Them'\n",
    "    elif ((df['RFM_Score'] >= 8) and (df['RFM_Score'] < 9)):\n",
    "        return 'Champions'\n",
    "    elif ((df['RFM_Score'] >= 7) and (df['RFM_Score'] < 8)):\n",
    "        return 'Loyal'\n",
    "    elif ((df['RFM_Score'] >= 6) and (df['RFM_Score'] < 7)):\n",
    "        return 'Potential'\n",
    "    elif ((df['RFM_Score'] >= 5) and (df['RFM_Score'] < 6)):\n",
    "        return 'Promising'\n",
    "    elif ((df['RFM_Score'] >= 4) and (df['RFM_Score'] < 5)):\n",
    "        return 'Needs Attention'\n",
    "    else:\n",
    "        return 'Require Activation'\n",
    "\n",
    "def rfm_level_2(df):\n",
    "    if df['RFM_Score'] >= 12:\n",
    "        return 'Platinum+'\n",
    "    elif ((df['RFM_Score'] >= 11) and (df['RFM_Score'] < 12)):\n",
    "        return 'Platinum'\n",
    "    elif ((df['RFM_Score'] >= 10) and (df['RFM_Score'] < 11)):\n",
    "        return 'Gold'\n",
    "    elif ((df['RFM_Score'] >= 9) and (df['RFM_Score'] < 10)):\n",
    "        return 'Silver'\n",
    "    elif ((df['RFM_Score'] >= 7) and (df['RFM_Score'] < 9)):\n",
    "        return 'Bronze+'\n",
    "    elif ((df['RFM_Score'] >= 5) and (df['RFM_Score'] < 7)):\n",
    "        return 'Bronze'\n",
    "    else:\n",
    "        return 'Require Activation'"
   ]
  },
  {
   "cell_type": "code",
   "execution_count": 25,
   "metadata": {},
   "outputs": [
    {
     "data": {
      "text/html": [
       "<div>\n",
       "<style scoped>\n",
       "    .dataframe tbody tr th:only-of-type {\n",
       "        vertical-align: middle;\n",
       "    }\n",
       "\n",
       "    .dataframe tbody tr th {\n",
       "        vertical-align: top;\n",
       "    }\n",
       "\n",
       "    .dataframe thead th {\n",
       "        text-align: right;\n",
       "    }\n",
       "</style>\n",
       "<table border=\"1\" class=\"dataframe\">\n",
       "  <thead>\n",
       "    <tr style=\"text-align: right;\">\n",
       "      <th></th>\n",
       "      <th>id</th>\n",
       "      <th>r</th>\n",
       "      <th>f</th>\n",
       "      <th>m</th>\n",
       "      <th>R</th>\n",
       "      <th>F</th>\n",
       "      <th>M</th>\n",
       "      <th>RFM_Segment_Concat</th>\n",
       "      <th>RFM_Score</th>\n",
       "      <th>RFM_Level</th>\n",
       "      <th>RFM_Level_2</th>\n",
       "    </tr>\n",
       "  </thead>\n",
       "  <tbody>\n",
       "    <tr>\n",
       "      <th>0</th>\n",
       "      <td>914</td>\n",
       "      <td>194</td>\n",
       "      <td>7</td>\n",
       "      <td>318.894775</td>\n",
       "      <td>3</td>\n",
       "      <td>3</td>\n",
       "      <td>4</td>\n",
       "      <td>334</td>\n",
       "      <td>10</td>\n",
       "      <td>Can't Loose Them</td>\n",
       "      <td>Gold</td>\n",
       "    </tr>\n",
       "    <tr>\n",
       "      <th>1</th>\n",
       "      <td>957</td>\n",
       "      <td>3</td>\n",
       "      <td>14</td>\n",
       "      <td>368.052246</td>\n",
       "      <td>4</td>\n",
       "      <td>4</td>\n",
       "      <td>4</td>\n",
       "      <td>444</td>\n",
       "      <td>12</td>\n",
       "      <td>Can't Loose Them</td>\n",
       "      <td>Platinum+</td>\n",
       "    </tr>\n",
       "    <tr>\n",
       "      <th>2</th>\n",
       "      <td>1406</td>\n",
       "      <td>1489</td>\n",
       "      <td>15</td>\n",
       "      <td>423.298340</td>\n",
       "      <td>1</td>\n",
       "      <td>4</td>\n",
       "      <td>4</td>\n",
       "      <td>144</td>\n",
       "      <td>9</td>\n",
       "      <td>Can't Loose Them</td>\n",
       "      <td>Silver</td>\n",
       "    </tr>\n",
       "    <tr>\n",
       "      <th>3</th>\n",
       "      <td>1414</td>\n",
       "      <td>155</td>\n",
       "      <td>4</td>\n",
       "      <td>71.217041</td>\n",
       "      <td>3</td>\n",
       "      <td>3</td>\n",
       "      <td>2</td>\n",
       "      <td>332</td>\n",
       "      <td>8</td>\n",
       "      <td>Champions</td>\n",
       "      <td>Bronze+</td>\n",
       "    </tr>\n",
       "    <tr>\n",
       "      <th>4</th>\n",
       "      <td>1546</td>\n",
       "      <td>194</td>\n",
       "      <td>6</td>\n",
       "      <td>442.638184</td>\n",
       "      <td>3</td>\n",
       "      <td>3</td>\n",
       "      <td>4</td>\n",
       "      <td>334</td>\n",
       "      <td>10</td>\n",
       "      <td>Can't Loose Them</td>\n",
       "      <td>Gold</td>\n",
       "    </tr>\n",
       "  </tbody>\n",
       "</table>\n",
       "</div>"
      ],
      "text/plain": [
       "     id     r   f           m  R  F  M RFM_Segment_Concat  RFM_Score  \\\n",
       "0   914   194   7  318.894775  3  3  4                334         10   \n",
       "1   957     3  14  368.052246  4  4  4                444         12   \n",
       "2  1406  1489  15  423.298340  1  4  4                144          9   \n",
       "3  1414   155   4   71.217041  3  3  2                332          8   \n",
       "4  1546   194   6  442.638184  3  3  4                334         10   \n",
       "\n",
       "          RFM_Level RFM_Level_2  \n",
       "0  Can't Loose Them        Gold  \n",
       "1  Can't Loose Them   Platinum+  \n",
       "2  Can't Loose Them      Silver  \n",
       "3         Champions     Bronze+  \n",
       "4  Can't Loose Them        Gold  "
      ]
     },
     "execution_count": 25,
     "metadata": {},
     "output_type": "execute_result"
    }
   ],
   "source": [
    "rfm_df['RFM_Level'] = rfm_df.apply(rfm_level, axis=1)\n",
    "rfm_df['RFM_Level_2'] = rfm_df.apply(rfm_level_2, axis=1)\n",
    "rfm_df.head()"
   ]
  },
  {
   "cell_type": "markdown",
   "metadata": {},
   "source": [
    "**Calculate average values for each RFM_Level, and return a size of each segment**"
   ]
  },
  {
   "cell_type": "code",
   "execution_count": 26,
   "metadata": {},
   "outputs": [
    {
     "name": "stdout",
     "output_type": "stream",
     "text": [
      "                         r     f      m       \n",
      "                      mean  mean   mean  count\n",
      "RFM_Level                                     \n",
      "Can't Loose Them     217.2  11.6  552.1  12359\n",
      "Champions            431.0   4.5  164.9   3804\n",
      "Loyal                577.6   3.5  112.4   3857\n",
      "Potential            535.8   2.1   63.8   4483\n",
      "Promising            694.9   1.6   44.2   4462\n",
      "Needs Attention      862.4   1.2   30.5   3089\n",
      "Require Activation  1460.3   1.0   19.0   1659\n"
     ]
    }
   ],
   "source": [
    "rfm_level_agg = rfm_df.groupby('RFM_Level').agg({\n",
    "    'r': 'mean',\n",
    "    'f': 'mean',\n",
    "    'm': ['mean', 'count']\n",
    "}).sort_values([('f',  'mean')], ascending=False).round(1)\n",
    "print(rfm_level_agg)\n",
    "# rfm_df.groupby('RFM_Score').agg({\n",
    "#     'r': 'mean',\n",
    "#     'f': 'mean',\n",
    "#     'm': ['mean', 'count']\n",
    "# }).round(1)\n",
    "\n"
   ]
  },
  {
   "cell_type": "code",
   "execution_count": 27,
   "metadata": {},
   "outputs": [
    {
     "name": "stdout",
     "output_type": "stream",
     "text": [
      "                         r     f       m      \n",
      "                      mean  mean    mean count\n",
      "RFM_Level_2                                   \n",
      "Platinum+             45.6  19.3  1002.0  2683\n",
      "Platinum             138.3  12.9   628.3  2733\n",
      "Gold                 252.3   9.4   436.1  3523\n",
      "Silver               378.7   6.9   257.7  3420\n",
      "Bronze+              504.8   4.0   138.5  7661\n",
      "Bronze               615.2   1.8    54.0  8945\n",
      "Require Activation  1071.3   1.1    26.5  4748\n"
     ]
    }
   ],
   "source": [
    "rfm_level_agg_2 = rfm_df.groupby('RFM_Level_2').agg({\n",
    "    'r': 'mean',\n",
    "    'f': 'mean',\n",
    "    'm': ['mean', 'count']\n",
    "}).sort_values([('r',  'mean')]).round(1)\n",
    "print(rfm_level_agg_2)"
   ]
  },
  {
   "cell_type": "markdown",
   "metadata": {},
   "source": [
    "<font color='red'><b>What conclusions can you derive about each of the group and how can these be valuable to your business case? Explain briefly"
   ]
  },
  {
   "cell_type": "markdown",
   "metadata": {},
   "source": [
    "Higher loyalty leads to higher usage, more spending."
   ]
  },
  {
   "cell_type": "markdown",
   "metadata": {},
   "source": [
    "<font color='red'><b>In the above analysis, we have chosen the following groups: <br>\n",
    "<font color='red'><b>-Can't Loose Them <br>\n",
    "<font color='red'><b>-Champions <br>\n",
    "<font color='red'><b>-Loyal <br>\n",
    "<font color='red'><b>-Needs Attention <br>\n",
    "<font color='red'><b>-Potential <br>\n",
    "<font color='red'><b>-Promising <br>\n",
    "<font color='red'><b>-Require Activation <br>\n",
    "<font color='red'><b> Can you come with your own groups using the RFM Score? Groups can be more or less than above"
   ]
  },
  {
   "cell_type": "markdown",
   "metadata": {},
   "source": [
    "Better if we do it through clustering  \n",
    "EDIT lmao never mind"
   ]
  },
  {
   "cell_type": "markdown",
   "metadata": {},
   "source": [
    "<font color='red'><b>Explain the reasoning behind each group and how it can be valuable to your business case"
   ]
  },
  {
   "cell_type": "markdown",
   "metadata": {},
   "source": [
    "### 3. KMeans Clustering"
   ]
  },
  {
   "cell_type": "markdown",
   "metadata": {},
   "source": [
    "**Let's look at KMeans clustering techniques to find out similar users based on the items they purchase and respective monetary value**"
   ]
  },
  {
   "cell_type": "markdown",
   "metadata": {},
   "source": [
    "K-Means clustering intends to partition n objects into k clusters in which each object belongs to the cluster with the nearest mean. This method produces exactly k different clusters of greatest possible distinction. The best number of clusters k leading to the greatest separation (distance) is not known as a priori and must be computed from the data. To find the optimal number of clusters k, we will use the elbow method."
   ]
  },
  {
   "cell_type": "markdown",
   "metadata": {},
   "source": [
    "**Data Frame of all items**"
   ]
  },
  {
   "cell_type": "code",
   "execution_count": 28,
   "metadata": {},
   "outputs": [],
   "source": [
    "items_df = df_2.iloc[:,5:36]\n",
    "items_df.index = df['id']"
   ]
  },
  {
   "cell_type": "code",
   "execution_count": 29,
   "metadata": {},
   "outputs": [
    {
     "data": {
      "text/html": [
       "<div>\n",
       "<style scoped>\n",
       "    .dataframe tbody tr th:only-of-type {\n",
       "        vertical-align: middle;\n",
       "    }\n",
       "\n",
       "    .dataframe tbody tr th {\n",
       "        vertical-align: top;\n",
       "    }\n",
       "\n",
       "    .dataframe thead th {\n",
       "        text-align: right;\n",
       "    }\n",
       "</style>\n",
       "<table border=\"1\" class=\"dataframe\">\n",
       "  <thead>\n",
       "    <tr style=\"text-align: right;\">\n",
       "      <th></th>\n",
       "      <th>Ffiction1</th>\n",
       "      <th>Fclassics3</th>\n",
       "      <th>Fcartoons5</th>\n",
       "      <th>Flegends6</th>\n",
       "      <th>Fphilosophy7</th>\n",
       "      <th>Freligion8</th>\n",
       "      <th>Fpsychology9</th>\n",
       "      <th>Flinguistics10</th>\n",
       "      <th>Fart12</th>\n",
       "      <th>Fmusic14</th>\n",
       "      <th>...</th>\n",
       "      <th>Fcooking36</th>\n",
       "      <th>Flearning37</th>\n",
       "      <th>FGamesRiddles38</th>\n",
       "      <th>Fsports39</th>\n",
       "      <th>Fhobby40</th>\n",
       "      <th>Fnature41</th>\n",
       "      <th>Fencyclopaedia44</th>\n",
       "      <th>Fvideos50</th>\n",
       "      <th>Fnonbooks99</th>\n",
       "      <th>Mfiction1</th>\n",
       "    </tr>\n",
       "    <tr>\n",
       "      <th>id</th>\n",
       "      <th></th>\n",
       "      <th></th>\n",
       "      <th></th>\n",
       "      <th></th>\n",
       "      <th></th>\n",
       "      <th></th>\n",
       "      <th></th>\n",
       "      <th></th>\n",
       "      <th></th>\n",
       "      <th></th>\n",
       "      <th></th>\n",
       "      <th></th>\n",
       "      <th></th>\n",
       "      <th></th>\n",
       "      <th></th>\n",
       "      <th></th>\n",
       "      <th></th>\n",
       "      <th></th>\n",
       "      <th></th>\n",
       "      <th></th>\n",
       "      <th></th>\n",
       "    </tr>\n",
       "  </thead>\n",
       "  <tbody>\n",
       "    <tr>\n",
       "      <th>914</th>\n",
       "      <td>1</td>\n",
       "      <td>0</td>\n",
       "      <td>1</td>\n",
       "      <td>0</td>\n",
       "      <td>0</td>\n",
       "      <td>0</td>\n",
       "      <td>0</td>\n",
       "      <td>0</td>\n",
       "      <td>1</td>\n",
       "      <td>7</td>\n",
       "      <td>...</td>\n",
       "      <td>1</td>\n",
       "      <td>0</td>\n",
       "      <td>0</td>\n",
       "      <td>0</td>\n",
       "      <td>0</td>\n",
       "      <td>0</td>\n",
       "      <td>0</td>\n",
       "      <td>0</td>\n",
       "      <td>0</td>\n",
       "      <td>5.949997</td>\n",
       "    </tr>\n",
       "    <tr>\n",
       "      <th>957</th>\n",
       "      <td>1</td>\n",
       "      <td>0</td>\n",
       "      <td>2</td>\n",
       "      <td>0</td>\n",
       "      <td>0</td>\n",
       "      <td>0</td>\n",
       "      <td>0</td>\n",
       "      <td>0</td>\n",
       "      <td>0</td>\n",
       "      <td>4</td>\n",
       "      <td>...</td>\n",
       "      <td>0</td>\n",
       "      <td>4</td>\n",
       "      <td>0</td>\n",
       "      <td>0</td>\n",
       "      <td>4</td>\n",
       "      <td>2</td>\n",
       "      <td>1</td>\n",
       "      <td>0</td>\n",
       "      <td>0</td>\n",
       "      <td>12.680038</td>\n",
       "    </tr>\n",
       "    <tr>\n",
       "      <th>1406</th>\n",
       "      <td>0</td>\n",
       "      <td>0</td>\n",
       "      <td>0</td>\n",
       "      <td>0</td>\n",
       "      <td>0</td>\n",
       "      <td>0</td>\n",
       "      <td>0</td>\n",
       "      <td>0</td>\n",
       "      <td>0</td>\n",
       "      <td>0</td>\n",
       "      <td>...</td>\n",
       "      <td>0</td>\n",
       "      <td>0</td>\n",
       "      <td>0</td>\n",
       "      <td>0</td>\n",
       "      <td>0</td>\n",
       "      <td>0</td>\n",
       "      <td>0</td>\n",
       "      <td>0</td>\n",
       "      <td>0</td>\n",
       "      <td>0.000000</td>\n",
       "    </tr>\n",
       "    <tr>\n",
       "      <th>1414</th>\n",
       "      <td>0</td>\n",
       "      <td>0</td>\n",
       "      <td>0</td>\n",
       "      <td>0</td>\n",
       "      <td>0</td>\n",
       "      <td>0</td>\n",
       "      <td>0</td>\n",
       "      <td>0</td>\n",
       "      <td>0</td>\n",
       "      <td>0</td>\n",
       "      <td>...</td>\n",
       "      <td>0</td>\n",
       "      <td>0</td>\n",
       "      <td>0</td>\n",
       "      <td>0</td>\n",
       "      <td>0</td>\n",
       "      <td>0</td>\n",
       "      <td>0</td>\n",
       "      <td>0</td>\n",
       "      <td>0</td>\n",
       "      <td>0.000000</td>\n",
       "    </tr>\n",
       "    <tr>\n",
       "      <th>1546</th>\n",
       "      <td>0</td>\n",
       "      <td>0</td>\n",
       "      <td>1</td>\n",
       "      <td>0</td>\n",
       "      <td>3</td>\n",
       "      <td>1</td>\n",
       "      <td>0</td>\n",
       "      <td>1</td>\n",
       "      <td>1</td>\n",
       "      <td>3</td>\n",
       "      <td>...</td>\n",
       "      <td>0</td>\n",
       "      <td>2</td>\n",
       "      <td>0</td>\n",
       "      <td>0</td>\n",
       "      <td>2</td>\n",
       "      <td>0</td>\n",
       "      <td>0</td>\n",
       "      <td>3</td>\n",
       "      <td>0</td>\n",
       "      <td>0.000000</td>\n",
       "    </tr>\n",
       "  </tbody>\n",
       "</table>\n",
       "<p>5 rows × 31 columns</p>\n",
       "</div>"
      ],
      "text/plain": [
       "      Ffiction1  Fclassics3  Fcartoons5  Flegends6  Fphilosophy7  Freligion8  \\\n",
       "id                                                                             \n",
       "914           1           0           1          0             0           0   \n",
       "957           1           0           2          0             0           0   \n",
       "1406          0           0           0          0             0           0   \n",
       "1414          0           0           0          0             0           0   \n",
       "1546          0           0           1          0             3           1   \n",
       "\n",
       "      Fpsychology9  Flinguistics10  Fart12  Fmusic14  ...  Fcooking36  \\\n",
       "id                                                    ...               \n",
       "914              0               0       1         7  ...           1   \n",
       "957              0               0       0         4  ...           0   \n",
       "1406             0               0       0         0  ...           0   \n",
       "1414             0               0       0         0  ...           0   \n",
       "1546             0               1       1         3  ...           0   \n",
       "\n",
       "      Flearning37  FGamesRiddles38  Fsports39  Fhobby40  Fnature41  \\\n",
       "id                                                                   \n",
       "914             0                0          0         0          0   \n",
       "957             4                0          0         4          2   \n",
       "1406            0                0          0         0          0   \n",
       "1414            0                0          0         0          0   \n",
       "1546            2                0          0         2          0   \n",
       "\n",
       "      Fencyclopaedia44  Fvideos50  Fnonbooks99  Mfiction1  \n",
       "id                                                         \n",
       "914                  0          0            0   5.949997  \n",
       "957                  1          0            0  12.680038  \n",
       "1406                 0          0            0   0.000000  \n",
       "1414                 0          0            0   0.000000  \n",
       "1546                 0          3            0   0.000000  \n",
       "\n",
       "[5 rows x 31 columns]"
      ]
     },
     "execution_count": 29,
     "metadata": {},
     "output_type": "execute_result"
    }
   ],
   "source": [
    "items_df.head()"
   ]
  },
  {
   "cell_type": "code",
   "execution_count": 30,
   "metadata": {},
   "outputs": [
    {
     "data": {
      "image/png": "[encoded data removed]",
      "text/plain": [
       "<Figure size 864x576 with 1 Axes>"
      ]
     },
     "metadata": {
      "needs_background": "light"
     },
     "output_type": "display_data"
    }
   ],
   "source": [
    "from sklearn.cluster import KMeans\n",
    "\n",
    "intertia = []\n",
    "\n",
    "for i in range(1, 11):\n",
    "    km = KMeans(n_clusters=i).fit(items_df)\n",
    "    intertia.append(km.inertia_)\n",
    "    \n",
    "fig, ax = plt.subplots(figsize=(12, 8))\n",
    "sns.lineplot(x=list(range(1, 11)), y=intertia, ax=ax)\n",
    "ax.set_title('Searching for Elbow')\n",
    "ax.set_xlabel('Clusters')\n",
    "ax.set_ylabel('Inertia')\n",
    "plt.show()"
   ]
  },
  {
   "cell_type": "markdown",
   "metadata": {},
   "source": [
    "**Elbow method tells us to select the cluster when there is a significant change in inertia. Anywhere between 4 to 6 seem reasonable. For my analysis, I will go with 4**"
   ]
  },
  {
   "cell_type": "markdown",
   "metadata": {},
   "source": [
    "**Let's apply KMeans and see the results**"
   ]
  },
  {
   "cell_type": "code",
   "execution_count": 31,
   "metadata": {},
   "outputs": [],
   "source": [
    "km5 = KMeans(n_clusters=4).fit(items_df)\n",
    "\n",
    "items_df['Labels'] = km5.labels_"
   ]
  },
  {
   "cell_type": "code",
   "execution_count": 32,
   "metadata": {},
   "outputs": [
    {
     "data": {
      "text/html": [
       "<div>\n",
       "<style scoped>\n",
       "    .dataframe tbody tr th:only-of-type {\n",
       "        vertical-align: middle;\n",
       "    }\n",
       "\n",
       "    .dataframe tbody tr th {\n",
       "        vertical-align: top;\n",
       "    }\n",
       "\n",
       "    .dataframe thead th {\n",
       "        text-align: right;\n",
       "    }\n",
       "</style>\n",
       "<table border=\"1\" class=\"dataframe\">\n",
       "  <thead>\n",
       "    <tr style=\"text-align: right;\">\n",
       "      <th></th>\n",
       "      <th>Ffiction1</th>\n",
       "      <th>Fclassics3</th>\n",
       "      <th>Fcartoons5</th>\n",
       "      <th>Flegends6</th>\n",
       "      <th>Fphilosophy7</th>\n",
       "      <th>Freligion8</th>\n",
       "      <th>Fpsychology9</th>\n",
       "      <th>Flinguistics10</th>\n",
       "      <th>Fart12</th>\n",
       "      <th>Fmusic14</th>\n",
       "      <th>...</th>\n",
       "      <th>Flearning37</th>\n",
       "      <th>FGamesRiddles38</th>\n",
       "      <th>Fsports39</th>\n",
       "      <th>Fhobby40</th>\n",
       "      <th>Fnature41</th>\n",
       "      <th>Fencyclopaedia44</th>\n",
       "      <th>Fvideos50</th>\n",
       "      <th>Fnonbooks99</th>\n",
       "      <th>Mfiction1</th>\n",
       "      <th>Labels</th>\n",
       "    </tr>\n",
       "    <tr>\n",
       "      <th>id</th>\n",
       "      <th></th>\n",
       "      <th></th>\n",
       "      <th></th>\n",
       "      <th></th>\n",
       "      <th></th>\n",
       "      <th></th>\n",
       "      <th></th>\n",
       "      <th></th>\n",
       "      <th></th>\n",
       "      <th></th>\n",
       "      <th></th>\n",
       "      <th></th>\n",
       "      <th></th>\n",
       "      <th></th>\n",
       "      <th></th>\n",
       "      <th></th>\n",
       "      <th></th>\n",
       "      <th></th>\n",
       "      <th></th>\n",
       "      <th></th>\n",
       "      <th></th>\n",
       "    </tr>\n",
       "  </thead>\n",
       "  <tbody>\n",
       "    <tr>\n",
       "      <th>914</th>\n",
       "      <td>1</td>\n",
       "      <td>0</td>\n",
       "      <td>1</td>\n",
       "      <td>0</td>\n",
       "      <td>0</td>\n",
       "      <td>0</td>\n",
       "      <td>0</td>\n",
       "      <td>0</td>\n",
       "      <td>1</td>\n",
       "      <td>7</td>\n",
       "      <td>...</td>\n",
       "      <td>0</td>\n",
       "      <td>0</td>\n",
       "      <td>0</td>\n",
       "      <td>0</td>\n",
       "      <td>0</td>\n",
       "      <td>0</td>\n",
       "      <td>0</td>\n",
       "      <td>0</td>\n",
       "      <td>5.949997</td>\n",
       "      <td>0</td>\n",
       "    </tr>\n",
       "    <tr>\n",
       "      <th>957</th>\n",
       "      <td>1</td>\n",
       "      <td>0</td>\n",
       "      <td>2</td>\n",
       "      <td>0</td>\n",
       "      <td>0</td>\n",
       "      <td>0</td>\n",
       "      <td>0</td>\n",
       "      <td>0</td>\n",
       "      <td>0</td>\n",
       "      <td>4</td>\n",
       "      <td>...</td>\n",
       "      <td>4</td>\n",
       "      <td>0</td>\n",
       "      <td>0</td>\n",
       "      <td>4</td>\n",
       "      <td>2</td>\n",
       "      <td>1</td>\n",
       "      <td>0</td>\n",
       "      <td>0</td>\n",
       "      <td>12.680038</td>\n",
       "      <td>0</td>\n",
       "    </tr>\n",
       "    <tr>\n",
       "      <th>1406</th>\n",
       "      <td>0</td>\n",
       "      <td>0</td>\n",
       "      <td>0</td>\n",
       "      <td>0</td>\n",
       "      <td>0</td>\n",
       "      <td>0</td>\n",
       "      <td>0</td>\n",
       "      <td>0</td>\n",
       "      <td>0</td>\n",
       "      <td>0</td>\n",
       "      <td>...</td>\n",
       "      <td>0</td>\n",
       "      <td>0</td>\n",
       "      <td>0</td>\n",
       "      <td>0</td>\n",
       "      <td>0</td>\n",
       "      <td>0</td>\n",
       "      <td>0</td>\n",
       "      <td>0</td>\n",
       "      <td>0.000000</td>\n",
       "      <td>0</td>\n",
       "    </tr>\n",
       "    <tr>\n",
       "      <th>1414</th>\n",
       "      <td>0</td>\n",
       "      <td>0</td>\n",
       "      <td>0</td>\n",
       "      <td>0</td>\n",
       "      <td>0</td>\n",
       "      <td>0</td>\n",
       "      <td>0</td>\n",
       "      <td>0</td>\n",
       "      <td>0</td>\n",
       "      <td>0</td>\n",
       "      <td>...</td>\n",
       "      <td>0</td>\n",
       "      <td>0</td>\n",
       "      <td>0</td>\n",
       "      <td>0</td>\n",
       "      <td>0</td>\n",
       "      <td>0</td>\n",
       "      <td>0</td>\n",
       "      <td>0</td>\n",
       "      <td>0.000000</td>\n",
       "      <td>0</td>\n",
       "    </tr>\n",
       "    <tr>\n",
       "      <th>1546</th>\n",
       "      <td>0</td>\n",
       "      <td>0</td>\n",
       "      <td>1</td>\n",
       "      <td>0</td>\n",
       "      <td>3</td>\n",
       "      <td>1</td>\n",
       "      <td>0</td>\n",
       "      <td>1</td>\n",
       "      <td>1</td>\n",
       "      <td>3</td>\n",
       "      <td>...</td>\n",
       "      <td>2</td>\n",
       "      <td>0</td>\n",
       "      <td>0</td>\n",
       "      <td>2</td>\n",
       "      <td>0</td>\n",
       "      <td>0</td>\n",
       "      <td>3</td>\n",
       "      <td>0</td>\n",
       "      <td>0.000000</td>\n",
       "      <td>0</td>\n",
       "    </tr>\n",
       "  </tbody>\n",
       "</table>\n",
       "<p>5 rows × 32 columns</p>\n",
       "</div>"
      ],
      "text/plain": [
       "      Ffiction1  Fclassics3  Fcartoons5  Flegends6  Fphilosophy7  Freligion8  \\\n",
       "id                                                                             \n",
       "914           1           0           1          0             0           0   \n",
       "957           1           0           2          0             0           0   \n",
       "1406          0           0           0          0             0           0   \n",
       "1414          0           0           0          0             0           0   \n",
       "1546          0           0           1          0             3           1   \n",
       "\n",
       "      Fpsychology9  Flinguistics10  Fart12  Fmusic14  ...  Flearning37  \\\n",
       "id                                                    ...                \n",
       "914              0               0       1         7  ...            0   \n",
       "957              0               0       0         4  ...            4   \n",
       "1406             0               0       0         0  ...            0   \n",
       "1414             0               0       0         0  ...            0   \n",
       "1546             0               1       1         3  ...            2   \n",
       "\n",
       "      FGamesRiddles38  Fsports39  Fhobby40  Fnature41  Fencyclopaedia44  \\\n",
       "id                                                                        \n",
       "914                 0          0         0          0                 0   \n",
       "957                 0          0         4          2                 1   \n",
       "1406                0          0         0          0                 0   \n",
       "1414                0          0         0          0                 0   \n",
       "1546                0          0         2          0                 0   \n",
       "\n",
       "      Fvideos50  Fnonbooks99  Mfiction1  Labels  \n",
       "id                                               \n",
       "914           0            0   5.949997       0  \n",
       "957           0            0  12.680038       0  \n",
       "1406          0            0   0.000000       0  \n",
       "1414          0            0   0.000000       0  \n",
       "1546          3            0   0.000000       0  \n",
       "\n",
       "[5 rows x 32 columns]"
      ]
     },
     "execution_count": 32,
     "metadata": {},
     "output_type": "execute_result"
    }
   ],
   "source": [
    "items_df.head()"
   ]
  },
  {
   "cell_type": "markdown",
   "metadata": {},
   "source": [
    "**For visualization purposes in 2D, let's pick Ffiction1 and Freligion8**"
   ]
  },
  {
   "cell_type": "code",
   "execution_count": 33,
   "metadata": {},
   "outputs": [
    {
     "data": {
      "image/png": "[encoded data removed]",
      "text/plain": [
       "<Figure size 864x576 with 1 Axes>"
      ]
     },
     "metadata": {
      "needs_background": "light"
     },
     "output_type": "display_data"
    }
   ],
   "source": [
    "plt.figure(figsize=(12, 8))\n",
    "sns.scatterplot(items_df['Ffiction1'], items_df['Freligion8'], hue=items_df['Labels'], \n",
    "                palette=sns.color_palette('hls', 4))\n",
    "plt.title('KMeans with 6 Clusters')\n",
    "plt.show()"
   ]
  },
  {
   "cell_type": "markdown",
   "metadata": {},
   "source": [
    "<font color='red'><b>What conclusions can you draw from the above clustering technique? Can you change the number of clusters and find better results? Try below."
   ]
  },
  {
   "cell_type": "markdown",
   "metadata": {},
   "source": [
    "<font color='red'><b>Can you try another clustering technique below and see if you can get better results?"
   ]
  },
  {
   "cell_type": "markdown",
   "metadata": {},
   "source": [
    "### 4. Item Based Collaborative Filtering"
   ]
  },
  {
   "cell_type": "markdown",
   "metadata": {},
   "source": [
    "**We'll use Nearest Neigbors to calculate the distance between users using the cosine similarity and find the nearest neighbors for each user. I have set nearest neighbors to 3 in order to find 2 other nearest users except the user iteself**"
   ]
  },
  {
   "cell_type": "code",
   "execution_count": 34,
   "metadata": {},
   "outputs": [],
   "source": [
    "from sklearn.neighbors import NearestNeighbors\n",
    "knn = NearestNeighbors(metric='cosine')\n",
    "knn.fit(items_df.values)\n",
    "distances, indices = knn.kneighbors(items_df.values, n_neighbors=5)"
   ]
  },
  {
   "cell_type": "markdown",
   "metadata": {},
   "source": [
    "**Let's look at the indices of nearest neighbors of each user**"
   ]
  },
  {
   "cell_type": "code",
   "execution_count": 35,
   "metadata": {},
   "outputs": [],
   "source": [
    "from collections import defaultdict"
   ]
  },
  {
   "cell_type": "code",
   "execution_count": 65,
   "metadata": {},
   "outputs": [],
   "source": [
    "#this is so ugly lmao\n",
    "def recommend(indices, items_df):\n",
    "    recommendations = []\n",
    "    # for every user and its similar users\n",
    "    for i, similar_users in enumerate(indices):\n",
    "#         print(f'looking at user {i}')\n",
    "        # exclude user oneself from set of similar users\n",
    "        users = set(similar_users) - set([i])\n",
    "        item_rank = defaultdict(int)\n",
    "#         print(users)\n",
    "        for user in users:\n",
    "#             print(f'looking at similar user {user}')\n",
    "            item = items_df.iloc[user, :-2]\n",
    "            item_counts = item.to_dict()\n",
    "#             print(f'user vector for user{user} is {item_counts}')\n",
    "            for item in item_counts.keys():\n",
    "                count = item_counts[item]\n",
    "                item_rank[item] = count + 1\n",
    "#         print(item_rank)\n",
    "        top_5 = list(pd.Series(item_rank).nlargest(5).index)\n",
    "        recommendations.append(top_5)\n",
    "    return recommendations"
   ]
  },
  {
   "cell_type": "code",
   "execution_count": 66,
   "metadata": {},
   "outputs": [],
   "source": [
    "recommendations = recommend(indices, items_df)"
   ]
  },
  {
   "cell_type": "code",
   "execution_count": 69,
   "metadata": {},
   "outputs": [],
   "source": [
    "items_df['recommendations'] = recommendations"
   ]
  },
  {
   "cell_type": "markdown",
   "metadata": {},
   "source": [
    "Coverage"
   ]
  },
  {
   "cell_type": "code",
   "execution_count": 77,
   "metadata": {},
   "outputs": [],
   "source": [
    "N_products = 30\n",
    "covered = set.union(*items_df['recommendations'].apply(set).tolist())"
   ]
  },
  {
   "cell_type": "code",
   "execution_count": 80,
   "metadata": {},
   "outputs": [
    {
     "data": {
      "text/plain": [
       "1.0"
      ]
     },
     "execution_count": 80,
     "metadata": {},
     "output_type": "execute_result"
    }
   ],
   "source": [
    "coverage = len(covered) / N_products\n",
    "coverage"
   ]
  },
  {
   "cell_type": "code",
   "execution_count": 85,
   "metadata": {},
   "outputs": [
    {
     "data": {
      "text/plain": [
       "0.16666666666666666"
      ]
     },
     "execution_count": 85,
     "metadata": {},
     "output_type": "execute_result"
    }
   ],
   "source": [
    "original_coverage = 5/N_products\n",
    "original_coverage"
   ]
  },
  {
   "cell_type": "markdown",
   "metadata": {},
   "source": [
    "personalization"
   ]
  },
  {
   "cell_type": "markdown",
   "metadata": {},
   "source": [
    "**Each row corresponds to the row in the items_df. The first element in a row is the most similar (nearest) user. Generally, it is the user itself. The second element is the second nearest, and the third is the third nearest. For example, in the first row [0,19081,7640], the nearest user to user_0 is itself, the second nearest user is user_19081, and the third is user_7640**"
   ]
  },
  {
   "cell_type": "markdown",
   "metadata": {},
   "source": [
    "<font color='red'><b>Compare RFM, Clustering and Item Based Collaborative Filtering on basis of the distinct business value each generates"
   ]
  },
  {
   "cell_type": "markdown",
   "metadata": {},
   "source": [
    "RFM brings preliminary insight on customer segmentation, KNN augmented the segmentation process by providing quantifiable way to optimize the soluion. Collborative Filtering on the other hand provides"
   ]
  },
  {
   "cell_type": "markdown",
   "metadata": {},
   "source": [
    "<font color='red'><b>What will you do when all 3 methods discussed above don't produce relevant results? How will you still recommend items to a user?"
   ]
  },
  {
   "cell_type": "code",
   "execution_count": null,
   "metadata": {},
   "outputs": [],
   "source": []
  },
  {
   "cell_type": "markdown",
   "metadata": {},
   "source": [
    "<font color='red'><b>What are some other recommendation techniques? Explain any 2 (no code needed)"
   ]
  },
  {
   "cell_type": "markdown",
   "metadata": {},
   "source": [
    "search-based recommendation. /"
   ]
  },
  {
   "cell_type": "markdown",
   "metadata": {},
   "source": [
    "<font color='red'><b>What other data set can you use for this project?"
   ]
  },
  {
   "cell_type": "code",
   "execution_count": null,
   "metadata": {},
   "outputs": [],
   "source": [
    "items_df_transposed = items_df.transpose()\n",
    "items_df_transposed"
   ]
  },
  {
   "cell_type": "code",
   "execution_count": null,
   "metadata": {},
   "outputs": [],
   "source": [
    "knn = NearestNeighbors(metric='cosine')\n",
    "knn.fit(items_df_transposed.values)\n",
    "distances, indices = knn.kneighbors(items_df_transposed.values, n_neighbors=7)"
   ]
  },
  {
   "cell_type": "code",
   "execution_count": null,
   "metadata": {},
   "outputs": [],
   "source": [
    "indices"
   ]
  },
  {
   "cell_type": "code",
   "execution_count": null,
   "metadata": {},
   "outputs": [],
   "source": []
  },
  {
   "cell_type": "code",
   "execution_count": null,
   "metadata": {},
   "outputs": [],
   "source": []
  }
 ],
 "metadata": {
  "interpreter": {
   "hash": "ebdfeb8887924e606afbfc51e32509445d9115704a3d5d2909aacca2fb2beb12"
  },
  "kernelspec": {
   "display_name": "Python 3",
   "language": "python",
   "name": "python3"
  },
  "language_info": {
   "codemirror_mode": {
    "name": "ipython",
    "version": 3
   },
   "file_extension": ".py",
   "mimetype": "text/x-python",
   "name": "python",
   "nbconvert_exporter": "python",
   "pygments_lexer": "ipython3",
   "version": "3.8.8"
  }
 },
 "nbformat": 4,
 "nbformat_minor": 4
}
